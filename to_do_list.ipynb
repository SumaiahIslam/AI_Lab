{
  "nbformat": 4,
  "nbformat_minor": 0,
  "metadata": {
    "colab": {
      "name": "to-do-list.ipynb",
      "provenance": [],
      "collapsed_sections": [],
      "authorship_tag": "ABX9TyM7uJn/XU11qyZOFdZ8/m2Y",
      "include_colab_link": true
    },
    "kernelspec": {
      "name": "python3",
      "display_name": "Python 3"
    }
  },
  "cells": [
    {
      "cell_type": "markdown",
      "metadata": {
        "id": "view-in-github",
        "colab_type": "text"
      },
      "source": [
        "<a href=\"https://colab.research.google.com/github/SumaiahIslam/AI_Lab/blob/master/to_do_list.ipynb\" target=\"_parent\"><img src=\"https://colab.research.google.com/assets/colab-badge.svg\" alt=\"Open In Colab\"/></a>"
      ]
    },
    {
      "cell_type": "markdown",
      "metadata": {
        "id": "HveuN4voPgpl",
        "colab_type": "text"
      },
      "source": [
        "\n",
        "\n",
        "#TO-DO-LIST\n",
        "\n"
      ]
    },
    {
      "cell_type": "code",
      "metadata": {
        "id": "4WC71lzAreJH",
        "colab_type": "code",
        "colab": {
          "base_uri": "https://localhost:8080/",
          "height": 748
        },
        "outputId": "aa21f94f-456b-4c7f-e5aa-cadf580c8128"
      },
      "source": [
        "data = []\n",
        "choice='random'\n",
        "\n",
        "def line():\n",
        "    print('---------------')\n",
        "\n",
        "def show_menu():\n",
        "    line()\n",
        "    print('MENU')\n",
        "    line()\n",
        "    print('1. Add item')\n",
        "    print('2. Mark as done')\n",
        "    print('3. View list')\n",
        "    print('4. Exit')\n",
        "    line()\n",
        "    choice = input('Enter your choice: ')\n",
        "    return choice\n",
        "    \n",
        "\n",
        "while choice != '4':\n",
        "    choice = show_menu()\n",
        "    if choice == '1':\n",
        "        item = input('What is to be done?')\n",
        "        data.append(item)\n",
        "        print('Item', item, 'added')\n",
        "    elif choice == '2':\n",
        "        item = input('What is to be marked as done?')\n",
        "        if item in data:\n",
        "            data.remove(item)\n",
        "            print('Removed item', item)\n",
        "        else:\n",
        "            print('Could not find item', item)\n",
        "    elif choice == '3':\n",
        "        print('List of to-do items:')\n",
        "        for item in data:\n",
        "            print(item)\n",
        "    elif choice == '4':\n",
        "        print('Goodbye!')\n",
        "    else:\n",
        "        print('Please enter one of 1, 2, 3 or 4')"
      ],
      "execution_count": null,
      "outputs": [
        {
          "output_type": "stream",
          "text": [
            "---------------\n",
            "MENU\n",
            "---------------\n",
            "1. Add item\n",
            "2. Mark as done\n",
            "3. View list\n",
            "4. Exit\n",
            "---------------\n",
            "Enter your choice: 1\n",
            "What is to be done?2\n",
            "Item 2 added\n",
            "---------------\n",
            "MENU\n",
            "---------------\n",
            "1. Add item\n",
            "2. Mark as done\n",
            "3. View list\n",
            "4. Exit\n",
            "---------------\n",
            "Enter your choice: 3\n",
            "List of to-do items:\n",
            "2\n",
            "---------------\n",
            "MENU\n",
            "---------------\n",
            "1. Add item\n",
            "2. Mark as done\n",
            "3. View list\n",
            "4. Exit\n",
            "---------------\n",
            "Enter your choice: 3\n",
            "List of to-do items:\n",
            "2\n",
            "---------------\n",
            "MENU\n",
            "---------------\n",
            "1. Add item\n",
            "2. Mark as done\n",
            "3. View list\n",
            "4. Exit\n",
            "---------------\n",
            "Enter your choice: 4\n",
            "Goodbye!\n"
          ],
          "name": "stdout"
        }
      ]
    }
  ]
}